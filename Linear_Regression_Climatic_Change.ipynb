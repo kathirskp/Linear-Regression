{
 "cells": [
  {
   "cell_type": "code",
   "execution_count": 1,
   "metadata": {},
   "outputs": [],
   "source": [
    "#importing the all required Libraries\n",
    "import pandas as pd\n",
    "import numpy as np\n",
    "import matplotlib.pyplot as plt\n",
    "import seaborn as sns\n",
    "import statsmodels.api as sm\n",
    "%matplotlib inline"
   ]
  },
  {
   "cell_type": "code",
   "execution_count": 2,
   "metadata": {},
   "outputs": [],
   "source": [
    "#Reading the 'climate_change.csv' attached\n",
    "df=pd.read_csv('climate_change.csv')"
   ]
  },
  {
   "cell_type": "code",
   "execution_count": 3,
   "metadata": {},
   "outputs": [
    {
     "data": {
      "text/html": [
       "<div>\n",
       "<style scoped>\n",
       "    .dataframe tbody tr th:only-of-type {\n",
       "        vertical-align: middle;\n",
       "    }\n",
       "\n",
       "    .dataframe tbody tr th {\n",
       "        vertical-align: top;\n",
       "    }\n",
       "\n",
       "    .dataframe thead th {\n",
       "        text-align: right;\n",
       "    }\n",
       "</style>\n",
       "<table border=\"1\" class=\"dataframe\">\n",
       "  <thead>\n",
       "    <tr style=\"text-align: right;\">\n",
       "      <th></th>\n",
       "      <th>Year</th>\n",
       "      <th>Month</th>\n",
       "      <th>MEI</th>\n",
       "      <th>CO2</th>\n",
       "      <th>CH4</th>\n",
       "      <th>N2O</th>\n",
       "      <th>CFC-11</th>\n",
       "      <th>CFC-12</th>\n",
       "      <th>TSI</th>\n",
       "      <th>Aerosols</th>\n",
       "      <th>Temp</th>\n",
       "    </tr>\n",
       "  </thead>\n",
       "  <tbody>\n",
       "    <tr>\n",
       "      <th>0</th>\n",
       "      <td>1983</td>\n",
       "      <td>5</td>\n",
       "      <td>2.556</td>\n",
       "      <td>345.96</td>\n",
       "      <td>1638.59</td>\n",
       "      <td>303.677</td>\n",
       "      <td>191.324</td>\n",
       "      <td>350.113</td>\n",
       "      <td>1366.1024</td>\n",
       "      <td>0.0863</td>\n",
       "      <td>0.109</td>\n",
       "    </tr>\n",
       "    <tr>\n",
       "      <th>1</th>\n",
       "      <td>1983</td>\n",
       "      <td>6</td>\n",
       "      <td>2.167</td>\n",
       "      <td>345.52</td>\n",
       "      <td>1633.71</td>\n",
       "      <td>303.746</td>\n",
       "      <td>192.057</td>\n",
       "      <td>351.848</td>\n",
       "      <td>1366.1208</td>\n",
       "      <td>0.0794</td>\n",
       "      <td>0.118</td>\n",
       "    </tr>\n",
       "    <tr>\n",
       "      <th>2</th>\n",
       "      <td>1983</td>\n",
       "      <td>7</td>\n",
       "      <td>1.741</td>\n",
       "      <td>346.80</td>\n",
       "      <td>1633.22</td>\n",
       "      <td>303.795</td>\n",
       "      <td>192.818</td>\n",
       "      <td>353.725</td>\n",
       "      <td>1366.2850</td>\n",
       "      <td>0.0731</td>\n",
       "      <td>0.137</td>\n",
       "    </tr>\n",
       "    <tr>\n",
       "      <th>3</th>\n",
       "      <td>1983</td>\n",
       "      <td>8</td>\n",
       "      <td>1.130</td>\n",
       "      <td>346.10</td>\n",
       "      <td>1631.35</td>\n",
       "      <td>303.839</td>\n",
       "      <td>193.602</td>\n",
       "      <td>355.633</td>\n",
       "      <td>1366.4202</td>\n",
       "      <td>0.0673</td>\n",
       "      <td>0.176</td>\n",
       "    </tr>\n",
       "    <tr>\n",
       "      <th>4</th>\n",
       "      <td>1983</td>\n",
       "      <td>9</td>\n",
       "      <td>0.428</td>\n",
       "      <td>340.17</td>\n",
       "      <td>1648.40</td>\n",
       "      <td>303.901</td>\n",
       "      <td>194.392</td>\n",
       "      <td>357.465</td>\n",
       "      <td>1366.2335</td>\n",
       "      <td>0.0619</td>\n",
       "      <td>0.149</td>\n",
       "    </tr>\n",
       "  </tbody>\n",
       "</table>\n",
       "</div>"
      ],
      "text/plain": [
       "   Year  Month    MEI     CO2      CH4      N2O   CFC-11   CFC-12        TSI  \\\n",
       "0  1983      5  2.556  345.96  1638.59  303.677  191.324  350.113  1366.1024   \n",
       "1  1983      6  2.167  345.52  1633.71  303.746  192.057  351.848  1366.1208   \n",
       "2  1983      7  1.741  346.80  1633.22  303.795  192.818  353.725  1366.2850   \n",
       "3  1983      8  1.130  346.10  1631.35  303.839  193.602  355.633  1366.4202   \n",
       "4  1983      9  0.428  340.17  1648.40  303.901  194.392  357.465  1366.2335   \n",
       "\n",
       "   Aerosols   Temp  \n",
       "0    0.0863  0.109  \n",
       "1    0.0794  0.118  \n",
       "2    0.0731  0.137  \n",
       "3    0.0673  0.176  \n",
       "4    0.0619  0.149  "
      ]
     },
     "execution_count": 3,
     "metadata": {},
     "output_type": "execute_result"
    }
   ],
   "source": [
    "#displaying the first 5 rows of the Dataframe 'df'\n",
    "df.head()"
   ]
  },
  {
   "cell_type": "code",
   "execution_count": 4,
   "metadata": {},
   "outputs": [
    {
     "data": {
      "text/html": [
       "<div>\n",
       "<style scoped>\n",
       "    .dataframe tbody tr th:only-of-type {\n",
       "        vertical-align: middle;\n",
       "    }\n",
       "\n",
       "    .dataframe tbody tr th {\n",
       "        vertical-align: top;\n",
       "    }\n",
       "\n",
       "    .dataframe thead th {\n",
       "        text-align: right;\n",
       "    }\n",
       "</style>\n",
       "<table border=\"1\" class=\"dataframe\">\n",
       "  <thead>\n",
       "    <tr style=\"text-align: right;\">\n",
       "      <th></th>\n",
       "      <th>Year</th>\n",
       "      <th>Month</th>\n",
       "      <th>MEI</th>\n",
       "      <th>CO2</th>\n",
       "      <th>CH4</th>\n",
       "      <th>N2O</th>\n",
       "      <th>CFC-11</th>\n",
       "      <th>CFC-12</th>\n",
       "      <th>TSI</th>\n",
       "      <th>Aerosols</th>\n",
       "      <th>Temp</th>\n",
       "    </tr>\n",
       "  </thead>\n",
       "  <tbody>\n",
       "    <tr>\n",
       "      <th>count</th>\n",
       "      <td>308.000000</td>\n",
       "      <td>308.000000</td>\n",
       "      <td>308.000000</td>\n",
       "      <td>308.000000</td>\n",
       "      <td>308.000000</td>\n",
       "      <td>308.000000</td>\n",
       "      <td>308.000000</td>\n",
       "      <td>308.000000</td>\n",
       "      <td>308.000000</td>\n",
       "      <td>308.000000</td>\n",
       "      <td>308.000000</td>\n",
       "    </tr>\n",
       "    <tr>\n",
       "      <th>mean</th>\n",
       "      <td>1995.662338</td>\n",
       "      <td>6.551948</td>\n",
       "      <td>0.275555</td>\n",
       "      <td>363.247857</td>\n",
       "      <td>1749.824513</td>\n",
       "      <td>312.391834</td>\n",
       "      <td>251.973068</td>\n",
       "      <td>497.524782</td>\n",
       "      <td>1366.070759</td>\n",
       "      <td>0.016657</td>\n",
       "      <td>0.256776</td>\n",
       "    </tr>\n",
       "    <tr>\n",
       "      <th>std</th>\n",
       "      <td>7.423197</td>\n",
       "      <td>3.447214</td>\n",
       "      <td>0.937918</td>\n",
       "      <td>12.616062</td>\n",
       "      <td>46.051678</td>\n",
       "      <td>5.225131</td>\n",
       "      <td>20.231783</td>\n",
       "      <td>57.826899</td>\n",
       "      <td>0.399610</td>\n",
       "      <td>0.029050</td>\n",
       "      <td>0.179090</td>\n",
       "    </tr>\n",
       "    <tr>\n",
       "      <th>min</th>\n",
       "      <td>1983.000000</td>\n",
       "      <td>1.000000</td>\n",
       "      <td>-1.635000</td>\n",
       "      <td>340.170000</td>\n",
       "      <td>1629.890000</td>\n",
       "      <td>303.677000</td>\n",
       "      <td>191.324000</td>\n",
       "      <td>350.113000</td>\n",
       "      <td>1365.426100</td>\n",
       "      <td>0.001600</td>\n",
       "      <td>-0.282000</td>\n",
       "    </tr>\n",
       "    <tr>\n",
       "      <th>25%</th>\n",
       "      <td>1989.000000</td>\n",
       "      <td>4.000000</td>\n",
       "      <td>-0.398750</td>\n",
       "      <td>353.020000</td>\n",
       "      <td>1722.182500</td>\n",
       "      <td>308.111500</td>\n",
       "      <td>246.295500</td>\n",
       "      <td>472.410750</td>\n",
       "      <td>1365.717050</td>\n",
       "      <td>0.002800</td>\n",
       "      <td>0.121750</td>\n",
       "    </tr>\n",
       "    <tr>\n",
       "      <th>50%</th>\n",
       "      <td>1996.000000</td>\n",
       "      <td>7.000000</td>\n",
       "      <td>0.237500</td>\n",
       "      <td>361.735000</td>\n",
       "      <td>1764.040000</td>\n",
       "      <td>311.507000</td>\n",
       "      <td>258.344000</td>\n",
       "      <td>528.356000</td>\n",
       "      <td>1365.980900</td>\n",
       "      <td>0.005750</td>\n",
       "      <td>0.248000</td>\n",
       "    </tr>\n",
       "    <tr>\n",
       "      <th>75%</th>\n",
       "      <td>2002.000000</td>\n",
       "      <td>10.000000</td>\n",
       "      <td>0.830500</td>\n",
       "      <td>373.455000</td>\n",
       "      <td>1786.885000</td>\n",
       "      <td>316.979000</td>\n",
       "      <td>267.031000</td>\n",
       "      <td>540.524250</td>\n",
       "      <td>1366.363250</td>\n",
       "      <td>0.012600</td>\n",
       "      <td>0.407250</td>\n",
       "    </tr>\n",
       "    <tr>\n",
       "      <th>max</th>\n",
       "      <td>2008.000000</td>\n",
       "      <td>12.000000</td>\n",
       "      <td>3.001000</td>\n",
       "      <td>388.500000</td>\n",
       "      <td>1814.180000</td>\n",
       "      <td>322.182000</td>\n",
       "      <td>271.494000</td>\n",
       "      <td>543.813000</td>\n",
       "      <td>1367.316200</td>\n",
       "      <td>0.149400</td>\n",
       "      <td>0.739000</td>\n",
       "    </tr>\n",
       "  </tbody>\n",
       "</table>\n",
       "</div>"
      ],
      "text/plain": [
       "              Year       Month         MEI         CO2          CH4  \\\n",
       "count   308.000000  308.000000  308.000000  308.000000   308.000000   \n",
       "mean   1995.662338    6.551948    0.275555  363.247857  1749.824513   \n",
       "std       7.423197    3.447214    0.937918   12.616062    46.051678   \n",
       "min    1983.000000    1.000000   -1.635000  340.170000  1629.890000   \n",
       "25%    1989.000000    4.000000   -0.398750  353.020000  1722.182500   \n",
       "50%    1996.000000    7.000000    0.237500  361.735000  1764.040000   \n",
       "75%    2002.000000   10.000000    0.830500  373.455000  1786.885000   \n",
       "max    2008.000000   12.000000    3.001000  388.500000  1814.180000   \n",
       "\n",
       "              N2O      CFC-11      CFC-12          TSI    Aerosols        Temp  \n",
       "count  308.000000  308.000000  308.000000   308.000000  308.000000  308.000000  \n",
       "mean   312.391834  251.973068  497.524782  1366.070759    0.016657    0.256776  \n",
       "std      5.225131   20.231783   57.826899     0.399610    0.029050    0.179090  \n",
       "min    303.677000  191.324000  350.113000  1365.426100    0.001600   -0.282000  \n",
       "25%    308.111500  246.295500  472.410750  1365.717050    0.002800    0.121750  \n",
       "50%    311.507000  258.344000  528.356000  1365.980900    0.005750    0.248000  \n",
       "75%    316.979000  267.031000  540.524250  1366.363250    0.012600    0.407250  \n",
       "max    322.182000  271.494000  543.813000  1367.316200    0.149400    0.739000  "
      ]
     },
     "execution_count": 4,
     "metadata": {},
     "output_type": "execute_result"
    }
   ],
   "source": [
    "#df.describe function is used to display the count,mean,std deviation,min,max for a numerical columns in a dataframe\n",
    "df.describe()"
   ]
  },
  {
   "cell_type": "code",
   "execution_count": 5,
   "metadata": {},
   "outputs": [
    {
     "data": {
      "text/plain": [
       "Year        0\n",
       "Month       0\n",
       "MEI         0\n",
       "CO2         0\n",
       "CH4         0\n",
       "N2O         0\n",
       "CFC-11      0\n",
       "CFC-12      0\n",
       "TSI         0\n",
       "Aerosols    0\n",
       "Temp        0\n",
       "dtype: int64"
      ]
     },
     "execution_count": 5,
     "metadata": {},
     "output_type": "execute_result"
    }
   ],
   "source": [
    "#to check the count of missing values in each columns of a df\n",
    "df.isnull().sum()"
   ]
  },
  {
   "cell_type": "code",
   "execution_count": 6,
   "metadata": {},
   "outputs": [
    {
     "name": "stdout",
     "output_type": "stream",
     "text": [
      "<class 'pandas.core.frame.DataFrame'>\n",
      "RangeIndex: 308 entries, 0 to 307\n",
      "Data columns (total 11 columns):\n",
      " #   Column    Non-Null Count  Dtype  \n",
      "---  ------    --------------  -----  \n",
      " 0   Year      308 non-null    int64  \n",
      " 1   Month     308 non-null    int64  \n",
      " 2   MEI       308 non-null    float64\n",
      " 3   CO2       308 non-null    float64\n",
      " 4   CH4       308 non-null    float64\n",
      " 5   N2O       308 non-null    float64\n",
      " 6   CFC-11    308 non-null    float64\n",
      " 7   CFC-12    308 non-null    float64\n",
      " 8   TSI       308 non-null    float64\n",
      " 9   Aerosols  308 non-null    float64\n",
      " 10  Temp      308 non-null    float64\n",
      "dtypes: float64(9), int64(2)\n",
      "memory usage: 26.6 KB\n"
     ]
    }
   ],
   "source": [
    "#to check the datatype of each column in a df\n",
    "df.info()"
   ]
  },
  {
   "cell_type": "code",
   "execution_count": 7,
   "metadata": {},
   "outputs": [],
   "source": [
    "#astype(float) is used to convert the column to float\n",
    "df['Year'] = df['Year'].astype(float)\n",
    "df['Month'] = df['Month'].astype(float)"
   ]
  },
  {
   "cell_type": "code",
   "execution_count": 8,
   "metadata": {},
   "outputs": [
    {
     "name": "stdout",
     "output_type": "stream",
     "text": [
      "<class 'pandas.core.frame.DataFrame'>\n",
      "RangeIndex: 308 entries, 0 to 307\n",
      "Data columns (total 11 columns):\n",
      " #   Column    Non-Null Count  Dtype  \n",
      "---  ------    --------------  -----  \n",
      " 0   Year      308 non-null    float64\n",
      " 1   Month     308 non-null    float64\n",
      " 2   MEI       308 non-null    float64\n",
      " 3   CO2       308 non-null    float64\n",
      " 4   CH4       308 non-null    float64\n",
      " 5   N2O       308 non-null    float64\n",
      " 6   CFC-11    308 non-null    float64\n",
      " 7   CFC-12    308 non-null    float64\n",
      " 8   TSI       308 non-null    float64\n",
      " 9   Aerosols  308 non-null    float64\n",
      " 10  Temp      308 non-null    float64\n",
      "dtypes: float64(11)\n",
      "memory usage: 26.6 KB\n"
     ]
    }
   ],
   "source": [
    "#checking whether all the columns are in same datatype\n",
    "df.info()"
   ]
  },
  {
   "cell_type": "code",
   "execution_count": 9,
   "metadata": {},
   "outputs": [
    {
     "data": {
      "text/html": [
       "<div>\n",
       "<style scoped>\n",
       "    .dataframe tbody tr th:only-of-type {\n",
       "        vertical-align: middle;\n",
       "    }\n",
       "\n",
       "    .dataframe tbody tr th {\n",
       "        vertical-align: top;\n",
       "    }\n",
       "\n",
       "    .dataframe thead th {\n",
       "        text-align: right;\n",
       "    }\n",
       "</style>\n",
       "<table border=\"1\" class=\"dataframe\">\n",
       "  <thead>\n",
       "    <tr style=\"text-align: right;\">\n",
       "      <th></th>\n",
       "      <th>Year</th>\n",
       "      <th>Month</th>\n",
       "      <th>MEI</th>\n",
       "      <th>CO2</th>\n",
       "      <th>CH4</th>\n",
       "      <th>N2O</th>\n",
       "      <th>CFC-11</th>\n",
       "      <th>CFC-12</th>\n",
       "      <th>TSI</th>\n",
       "      <th>Aerosols</th>\n",
       "      <th>Temp</th>\n",
       "    </tr>\n",
       "  </thead>\n",
       "  <tbody>\n",
       "    <tr>\n",
       "      <th>Year</th>\n",
       "      <td>1.000000</td>\n",
       "      <td>-0.025789</td>\n",
       "      <td>-0.145345</td>\n",
       "      <td>0.984942</td>\n",
       "      <td>0.910563</td>\n",
       "      <td>0.994850</td>\n",
       "      <td>0.460965</td>\n",
       "      <td>0.870067</td>\n",
       "      <td>0.022353</td>\n",
       "      <td>-0.361884</td>\n",
       "      <td>0.755731</td>\n",
       "    </tr>\n",
       "    <tr>\n",
       "      <th>Month</th>\n",
       "      <td>-0.025789</td>\n",
       "      <td>1.000000</td>\n",
       "      <td>-0.016345</td>\n",
       "      <td>-0.096017</td>\n",
       "      <td>0.017558</td>\n",
       "      <td>0.012395</td>\n",
       "      <td>-0.014914</td>\n",
       "      <td>-0.001084</td>\n",
       "      <td>-0.032754</td>\n",
       "      <td>0.014845</td>\n",
       "      <td>-0.098016</td>\n",
       "    </tr>\n",
       "    <tr>\n",
       "      <th>MEI</th>\n",
       "      <td>-0.145345</td>\n",
       "      <td>-0.016345</td>\n",
       "      <td>1.000000</td>\n",
       "      <td>-0.151313</td>\n",
       "      <td>-0.105555</td>\n",
       "      <td>-0.162375</td>\n",
       "      <td>0.088171</td>\n",
       "      <td>-0.039836</td>\n",
       "      <td>-0.076826</td>\n",
       "      <td>0.352351</td>\n",
       "      <td>0.135292</td>\n",
       "    </tr>\n",
       "    <tr>\n",
       "      <th>CO2</th>\n",
       "      <td>0.984942</td>\n",
       "      <td>-0.096017</td>\n",
       "      <td>-0.151313</td>\n",
       "      <td>1.000000</td>\n",
       "      <td>0.870111</td>\n",
       "      <td>0.980798</td>\n",
       "      <td>0.397404</td>\n",
       "      <td>0.821097</td>\n",
       "      <td>0.019147</td>\n",
       "      <td>-0.367112</td>\n",
       "      <td>0.749442</td>\n",
       "    </tr>\n",
       "    <tr>\n",
       "      <th>CH4</th>\n",
       "      <td>0.910563</td>\n",
       "      <td>0.017558</td>\n",
       "      <td>-0.105555</td>\n",
       "      <td>0.870111</td>\n",
       "      <td>1.000000</td>\n",
       "      <td>0.894409</td>\n",
       "      <td>0.713504</td>\n",
       "      <td>0.958237</td>\n",
       "      <td>0.146335</td>\n",
       "      <td>-0.290381</td>\n",
       "      <td>0.699697</td>\n",
       "    </tr>\n",
       "    <tr>\n",
       "      <th>N2O</th>\n",
       "      <td>0.994850</td>\n",
       "      <td>0.012395</td>\n",
       "      <td>-0.162375</td>\n",
       "      <td>0.980798</td>\n",
       "      <td>0.894409</td>\n",
       "      <td>1.000000</td>\n",
       "      <td>0.412155</td>\n",
       "      <td>0.839295</td>\n",
       "      <td>0.039892</td>\n",
       "      <td>-0.353499</td>\n",
       "      <td>0.743242</td>\n",
       "    </tr>\n",
       "    <tr>\n",
       "      <th>CFC-11</th>\n",
       "      <td>0.460965</td>\n",
       "      <td>-0.014914</td>\n",
       "      <td>0.088171</td>\n",
       "      <td>0.397404</td>\n",
       "      <td>0.713504</td>\n",
       "      <td>0.412155</td>\n",
       "      <td>1.000000</td>\n",
       "      <td>0.831381</td>\n",
       "      <td>0.284629</td>\n",
       "      <td>-0.032302</td>\n",
       "      <td>0.380111</td>\n",
       "    </tr>\n",
       "    <tr>\n",
       "      <th>CFC-12</th>\n",
       "      <td>0.870067</td>\n",
       "      <td>-0.001084</td>\n",
       "      <td>-0.039836</td>\n",
       "      <td>0.821097</td>\n",
       "      <td>0.958237</td>\n",
       "      <td>0.839295</td>\n",
       "      <td>0.831381</td>\n",
       "      <td>1.000000</td>\n",
       "      <td>0.189270</td>\n",
       "      <td>-0.243785</td>\n",
       "      <td>0.688944</td>\n",
       "    </tr>\n",
       "    <tr>\n",
       "      <th>TSI</th>\n",
       "      <td>0.022353</td>\n",
       "      <td>-0.032754</td>\n",
       "      <td>-0.076826</td>\n",
       "      <td>0.019147</td>\n",
       "      <td>0.146335</td>\n",
       "      <td>0.039892</td>\n",
       "      <td>0.284629</td>\n",
       "      <td>0.189270</td>\n",
       "      <td>1.000000</td>\n",
       "      <td>0.083238</td>\n",
       "      <td>0.182186</td>\n",
       "    </tr>\n",
       "    <tr>\n",
       "      <th>Aerosols</th>\n",
       "      <td>-0.361884</td>\n",
       "      <td>0.014845</td>\n",
       "      <td>0.352351</td>\n",
       "      <td>-0.367112</td>\n",
       "      <td>-0.290381</td>\n",
       "      <td>-0.353499</td>\n",
       "      <td>-0.032302</td>\n",
       "      <td>-0.243785</td>\n",
       "      <td>0.083238</td>\n",
       "      <td>1.000000</td>\n",
       "      <td>-0.392069</td>\n",
       "    </tr>\n",
       "    <tr>\n",
       "      <th>Temp</th>\n",
       "      <td>0.755731</td>\n",
       "      <td>-0.098016</td>\n",
       "      <td>0.135292</td>\n",
       "      <td>0.749442</td>\n",
       "      <td>0.699697</td>\n",
       "      <td>0.743242</td>\n",
       "      <td>0.380111</td>\n",
       "      <td>0.688944</td>\n",
       "      <td>0.182186</td>\n",
       "      <td>-0.392069</td>\n",
       "      <td>1.000000</td>\n",
       "    </tr>\n",
       "  </tbody>\n",
       "</table>\n",
       "</div>"
      ],
      "text/plain": [
       "              Year     Month       MEI       CO2       CH4       N2O  \\\n",
       "Year      1.000000 -0.025789 -0.145345  0.984942  0.910563  0.994850   \n",
       "Month    -0.025789  1.000000 -0.016345 -0.096017  0.017558  0.012395   \n",
       "MEI      -0.145345 -0.016345  1.000000 -0.151313 -0.105555 -0.162375   \n",
       "CO2       0.984942 -0.096017 -0.151313  1.000000  0.870111  0.980798   \n",
       "CH4       0.910563  0.017558 -0.105555  0.870111  1.000000  0.894409   \n",
       "N2O       0.994850  0.012395 -0.162375  0.980798  0.894409  1.000000   \n",
       "CFC-11    0.460965 -0.014914  0.088171  0.397404  0.713504  0.412155   \n",
       "CFC-12    0.870067 -0.001084 -0.039836  0.821097  0.958237  0.839295   \n",
       "TSI       0.022353 -0.032754 -0.076826  0.019147  0.146335  0.039892   \n",
       "Aerosols -0.361884  0.014845  0.352351 -0.367112 -0.290381 -0.353499   \n",
       "Temp      0.755731 -0.098016  0.135292  0.749442  0.699697  0.743242   \n",
       "\n",
       "            CFC-11    CFC-12       TSI  Aerosols      Temp  \n",
       "Year      0.460965  0.870067  0.022353 -0.361884  0.755731  \n",
       "Month    -0.014914 -0.001084 -0.032754  0.014845 -0.098016  \n",
       "MEI       0.088171 -0.039836 -0.076826  0.352351  0.135292  \n",
       "CO2       0.397404  0.821097  0.019147 -0.367112  0.749442  \n",
       "CH4       0.713504  0.958237  0.146335 -0.290381  0.699697  \n",
       "N2O       0.412155  0.839295  0.039892 -0.353499  0.743242  \n",
       "CFC-11    1.000000  0.831381  0.284629 -0.032302  0.380111  \n",
       "CFC-12    0.831381  1.000000  0.189270 -0.243785  0.688944  \n",
       "TSI       0.284629  0.189270  1.000000  0.083238  0.182186  \n",
       "Aerosols -0.032302 -0.243785  0.083238  1.000000 -0.392069  \n",
       "Temp      0.380111  0.688944  0.182186 -0.392069  1.000000  "
      ]
     },
     "execution_count": 9,
     "metadata": {},
     "output_type": "execute_result"
    }
   ],
   "source": [
    "#to check the correlation of all numerical columns in a df\n",
    "df.corr()"
   ]
  },
  {
   "cell_type": "code",
   "execution_count": 10,
   "metadata": {},
   "outputs": [
    {
     "data": {
      "text/plain": [
       "<matplotlib.axes._subplots.AxesSubplot at 0x1eae211bec8>"
      ]
     },
     "execution_count": 10,
     "metadata": {},
     "output_type": "execute_result"
    },
    {
     "data": {
      "image/png": "[encoded data removed]",
      "text/plain": [
       "<Figure size 720x720 with 2 Axes>"
      ]
     },
     "metadata": {
      "needs_background": "light"
     },
     "output_type": "display_data"
    }
   ],
   "source": [
    "#plotting the correlation of a columns using the Heatmap plot\n",
    "fig, ax = plt.subplots(figsize=(10,10))         # Sample figsize in inches\n",
    "sns.heatmap(df.corr(),annot=True,linewidths=0.01,ax=ax, cmap=\"YlGnBu\")"
   ]
  },
  {
   "cell_type": "code",
   "execution_count": 11,
   "metadata": {},
   "outputs": [
    {
     "data": {
      "text/plain": [
       "Index(['Year', 'Month', 'MEI', 'CO2', 'CH4', 'N2O', 'CFC-11', 'CFC-12', 'TSI',\n",
       "       'Aerosols', 'Temp'],\n",
       "      dtype='object')"
      ]
     },
     "execution_count": 11,
     "metadata": {},
     "output_type": "execute_result"
    }
   ],
   "source": [
    "#saving the column names to a variable\n",
    "col=df.columns\n",
    "col"
   ]
  },
  {
   "cell_type": "code",
   "execution_count": 12,
   "metadata": {},
   "outputs": [],
   "source": [
    "#deleting the columns names using index\n",
    "col=col.delete([0,1,4,10])"
   ]
  },
  {
   "cell_type": "code",
   "execution_count": 13,
   "metadata": {},
   "outputs": [
    {
     "data": {
      "text/plain": [
       "Index(['MEI', 'CO2', 'N2O', 'CFC-11', 'CFC-12', 'TSI', 'Aerosols'], dtype='object')"
      ]
     },
     "execution_count": 13,
     "metadata": {},
     "output_type": "execute_result"
    }
   ],
   "source": [
    "#printing the required columns names\n",
    "col"
   ]
  },
  {
   "cell_type": "code",
   "execution_count": 14,
   "metadata": {},
   "outputs": [],
   "source": [
    "#splitting the data into Train and test\n",
    "from sklearn.model_selection import train_test_split\n",
    "x_train, x_test, y_train, y_test = train_test_split(df[col],df['Temp'],test_size=0.3,random_state =5149)"
   ]
  },
  {
   "cell_type": "code",
   "execution_count": 15,
   "metadata": {},
   "outputs": [
    {
     "name": "stdout",
     "output_type": "stream",
     "text": [
      "                            OLS Regression Results                            \n",
      "==============================================================================\n",
      "Dep. Variable:                   Temp   R-squared:                       0.750\n",
      "Model:                            OLS   Adj. R-squared:                  0.742\n",
      "Method:                 Least Squares   F-statistic:                     88.76\n",
      "Date:                Wed, 02 Sep 2020   Prob (F-statistic):           7.81e-59\n",
      "Time:                        16:19:20   Log-Likelihood:                 208.64\n",
      "No. Observations:                 215   AIC:                            -401.3\n",
      "Df Residuals:                     207   BIC:                            -374.3\n",
      "Df Model:                           7                                         \n",
      "Covariance Type:            nonrobust                                         \n",
      "==============================================================================\n",
      "                 coef    std err          t      P>|t|      [0.025      0.975]\n",
      "------------------------------------------------------------------------------\n",
      "const       -139.3062     24.415     -5.706      0.000    -187.440     -91.172\n",
      "MEI            0.0681      0.007      9.256      0.000       0.054       0.083\n",
      "CO2            0.0051      0.003      1.897      0.059      -0.000       0.010\n",
      "N2O           -0.0157      0.009     -1.723      0.086      -0.034       0.002\n",
      "CFC-11        -0.0071      0.002     -3.989      0.000      -0.011      -0.004\n",
      "CFC-12         0.0042      0.001      3.987      0.000       0.002       0.006\n",
      "TSI            0.1042      0.018      5.890      0.000       0.069       0.139\n",
      "Aerosols      -1.6579      0.261     -6.353      0.000      -2.172      -1.143\n",
      "==============================================================================\n",
      "Omnibus:                        4.722   Durbin-Watson:                   1.874\n",
      "Prob(Omnibus):                  0.094   Jarque-Bera (JB):                5.723\n",
      "Skew:                           0.138   Prob(JB):                       0.0572\n",
      "Kurtosis:                       3.750   Cond. No.                     5.95e+06\n",
      "==============================================================================\n",
      "\n",
      "Warnings:\n",
      "[1] Standard Errors assume that the covariance matrix of the errors is correctly specified.\n",
      "[2] The condition number is large, 5.95e+06. This might indicate that there are\n",
      "strong multicollinearity or other numerical problems.\n"
     ]
    }
   ],
   "source": [
    "#importing the linear regression model from statsmodels library\n",
    "import statsmodels.api as sm\n",
    "x_trainc = sm.add_constant(x_train)#adding a constant to the model, because dont want the linear reg line to pass through origin.\n",
    "x_testc = sm.add_constant(x_test)#adding a constant to the model, because dont want the linear reg line to pass through origin.\n",
    "lm = sm.OLS(y_train,x_trainc) \n",
    "lm2 = lm.fit() #fitting the model in lm2 varaible\n",
    "print(lm2.summary()) # printing the summary of the linear regression"
   ]
  },
  {
   "cell_type": "code",
   "execution_count": 16,
   "metadata": {},
   "outputs": [],
   "source": [
    "y_pred_test= lm2.predict(x_testc) #predicting the y values of train and test\n",
    "y_pred_train= lm2.predict(x_trainc)"
   ]
  },
  {
   "cell_type": "code",
   "execution_count": 17,
   "metadata": {},
   "outputs": [
    {
     "name": "stdout",
     "output_type": "stream",
     "text": [
      "Training Data Score\n",
      "MAE: 0.071\n",
      "MSE: 0.008\n",
      "RMSE: 0.092\n",
      "R2: 0.75 \n",
      "\n",
      "Testing Data Score\n",
      "MAE: 0.069\n",
      "MSE: 0.008\n",
      "RMSE: 0.088\n",
      "R2: 0.724\n"
     ]
    }
   ],
   "source": [
    "#importing the metric score library\n",
    "from sklearn import metrics\n",
    "from sklearn.metrics import r2_score\n",
    "print(\"Training Data Score\")\n",
    "print('MAE:', round(metrics.mean_absolute_error(y_train, y_pred_train),3))\n",
    "print('MSE:', round(metrics.mean_squared_error(y_train, y_pred_train),3))\n",
    "print('RMSE:', round(np.sqrt(metrics.mean_squared_error(y_train, y_pred_train)),3))\n",
    "print('R2:',round(r2_score(y_train, y_pred_train),3),\"\\n\")\n",
    "print(\"Testing Data Score\")\n",
    "print('MAE:', round(metrics.mean_absolute_error(y_test, y_pred_test),3))\n",
    "print('MSE:', round(metrics.mean_squared_error(y_test, y_pred_test),3))\n",
    "print('RMSE:', round(np.sqrt(metrics.mean_squared_error(y_test, y_pred_test)),3))\n",
    "print('R2:',round(r2_score(y_test, y_pred_test),3))"
   ]
  },
  {
   "cell_type": "code",
   "execution_count": 18,
   "metadata": {},
   "outputs": [
    {
     "name": "stdout",
     "output_type": "stream",
     "text": [
      "SSE : 1.81\n",
      "TSS : 7.23\n",
      "R2 : 0.75\n"
     ]
    }
   ],
   "source": [
    "SSE=sum((y_train-y_pred_train)**2)\n",
    "print(\"SSE :\", \"%.2f\" % SSE)\n",
    "TSS= sum((y_train- np.mean(y_train))**2)\n",
    "print(\"TSS :\", \"%.2f\" % TSS)\n",
    "R2=1-(SSE/TSS)\n",
    "print(\"R2 :\", \"%.2f\" % R2)"
   ]
  },
  {
   "cell_type": "code",
   "execution_count": 19,
   "metadata": {},
   "outputs": [
    {
     "data": {
      "text/plain": [
       "0.7501066086059783"
      ]
     },
     "execution_count": 19,
     "metadata": {},
     "output_type": "execute_result"
    }
   ],
   "source": [
    "#For Multivariate analysis R2 is the correlation between [Actual and predicted]2 values\n",
    "y_train.corr(y_pred_train)**2"
   ]
  },
  {
   "cell_type": "code",
   "execution_count": 20,
   "metadata": {},
   "outputs": [
    {
     "name": "stdout",
     "output_type": "stream",
     "text": [
      "Adjusted R2 : 0.74\n"
     ]
    }
   ],
   "source": [
    "#Calculation the Adjusted R2 manullay \n",
    "train_n=len(y_train)\n",
    "train_k=len(col)\n",
    "Adj_R2=1-((1-R2)*(train_n-1)/(train_n-train_k-1))\n",
    "print(\"Adjusted R2 :\", \"%.2f\" % Adj_R2)"
   ]
  },
  {
   "cell_type": "code",
   "execution_count": 21,
   "metadata": {},
   "outputs": [
    {
     "data": {
      "text/plain": [
       "(array([ 1.,  4., 18., 12., 27., 12., 12.,  5.,  0.,  2.]),\n",
       " array([-0.21855947, -0.1682896 , -0.11801973, -0.06774986, -0.01747999,\n",
       "         0.03278988,  0.08305975,  0.13332963,  0.1835995 ,  0.23386937,\n",
       "         0.28413924]),\n",
       " <a list of 10 Patch objects>)"
      ]
     },
     "execution_count": 21,
     "metadata": {},
     "output_type": "execute_result"
    },
    {
     "data": {
      "image/png": "[encoded data removed]",
      "text/plain": [
       "<Figure size 432x288 with 1 Axes>"
      ]
     },
     "metadata": {
      "needs_background": "light"
     },
     "output_type": "display_data"
    }
   ],
   "source": [
    "#Linear regression Assumption\n",
    "#1.Error should be normally distributed\n",
    "plt.hist(y_test-y_pred_test)"
   ]
  },
  {
   "cell_type": "code",
   "execution_count": 22,
   "metadata": {},
   "outputs": [
    {
     "data": {
      "text/plain": [
       "<matplotlib.collections.PathCollection at 0x1eae39cfa08>"
      ]
     },
     "execution_count": 22,
     "metadata": {},
     "output_type": "execute_result"
    },
    {
     "data": {
      "image/png": "[encoded data removed]",
      "text/plain": [
       "<Figure size 432x288 with 1 Axes>"
      ]
     },
     "metadata": {
      "needs_background": "light"
     },
     "output_type": "display_data"
    }
   ],
   "source": [
    "#Linear regression Assumption\n",
    "#2.Error should be random and should have constant variance\n",
    "plt.scatter(x=y_train,y=y_train-y_pred_train)"
   ]
  },
  {
   "cell_type": "code",
   "execution_count": 23,
   "metadata": {},
   "outputs": [
    {
     "data": {
      "text/plain": [
       "Index(['MEI', 'CO2', 'N2O', 'CFC-11', 'CFC-12', 'TSI', 'Aerosols'], dtype='object')"
      ]
     },
     "execution_count": 23,
     "metadata": {},
     "output_type": "execute_result"
    }
   ],
   "source": [
    "col"
   ]
  },
  {
   "cell_type": "code",
   "execution_count": 24,
   "metadata": {},
   "outputs": [],
   "source": [
    "#Creating a loop to check accuracy for eppending each independent variables\n",
    "col1=[]\n",
    "R2_train=[]\n",
    "R2_test=[]\n",
    "No_IV=[]\n",
    "for i in col:\n",
    "    x_train, x_test, y_train, y_test = train_test_split(df[col1],df['Temp'],test_size=0.3,random_state =5555)\n",
    "    x_trainc = sm.add_constant(x_train)#add a constant to the model\n",
    "    x_testc = sm.add_constant(x_test)#add a constant to the model \n",
    "    lm = sm.OLS(y_train,x_trainc)\n",
    "    lm = sm.OLS(y_test,x_testc)    \n",
    "    lm2 = lm.fit()\n",
    "    y_pred_train= lm2.predict(x_trainc)\n",
    "    R2_train.append(r2_score(y_train, y_pred_train))\n",
    "    y_pred_test= lm2.predict(x_testc)\n",
    "    R2_test.append(r2_score(y_test, y_pred_test))    \n",
    "    No_IV.append(len(col1))\n",
    "    col1.append(i)"
   ]
  },
  {
   "cell_type": "code",
   "execution_count": 25,
   "metadata": {
    "scrolled": true
   },
   "outputs": [
    {
     "data": {
      "text/plain": [
       "<Figure size 576x432 with 0 Axes>"
      ]
     },
     "execution_count": 25,
     "metadata": {},
     "output_type": "execute_result"
    },
    {
     "data": {
      "image/png": "[encoded data removed]",
      "text/plain": [
       "<Figure size 432x288 with 1 Axes>"
      ]
     },
     "metadata": {
      "needs_background": "light"
     },
     "output_type": "display_data"
    },
    {
     "data": {
      "text/plain": [
       "<Figure size 576x432 with 0 Axes>"
      ]
     },
     "metadata": {},
     "output_type": "display_data"
    }
   ],
   "source": [
    "#Plotting the Accuracy vs No. of Independent variables to check at which stage the Train and Test accuracy are close to each other\n",
    "plt.plot(No_IV,R2_test, label=\"Test Accuracy\")\n",
    "plt.plot(No_IV,R2_train, label=\"Train Accuracy\")\n",
    "plt.title(\"Accuracy vs No. of IV's\")\n",
    "plt.xlabel(\"No. of Independent Variables\")\n",
    "plt.ylabel(\"Accuracy\")\n",
    "plt.legend(bbox_to_anchor=(1.05, 1), loc='upper left', borderaxespad=0.)\n",
    "plt.figure(figsize=(8,6))\n"
   ]
  },
  {
   "cell_type": "code",
   "execution_count": null,
   "metadata": {},
   "outputs": [],
   "source": []
  }
 ],
 "metadata": {
  "kernelspec": {
   "display_name": "Python 3",
   "language": "python",
   "name": "python3"
  },
  "language_info": {
   "codemirror_mode": {
    "name": "ipython",
    "version": 3
   },
   "file_extension": ".py",
   "mimetype": "text/x-python",
   "name": "python",
   "nbconvert_exporter": "python",
   "pygments_lexer": "ipython3",
   "version": "3.7.6"
  }
 },
 "nbformat": 4,
 "nbformat_minor": 4
}
